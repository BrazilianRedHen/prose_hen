{
 "cells": [
  {
   "cell_type": "markdown",
   "metadata": {},
   "source": [
    "# Desenvolvimento de codigo\n",
    "Apos o recebmento dos arquivos CONLL, foi feito a separação dos arquivos em suas determinadas revistas. Apos esse processo foi iniciado o processo de codificação de uma atraves da plataforma JUPYTER para extrair as informações em arquivos ais facilmentes editaveis.\n",
    "Para isso forom utiizadas as segintes bibliotecas:"
   ]
  },
  {
   "cell_type": "code",
   "execution_count": 1,
   "metadata": {},
   "outputs": [],
   "source": [
    "import numpy as np #Biblioteca de suporte de arrays e matriz multidimensionais\n",
    "import pandas as pd #Biblioteca de manipulação e análise de dado\n",
    "import os #Esse modulo prove alguns metodos para atuar com o sistema operacional, nesse projeto utilizado para gerenciamento de diretorios\n",
    "import sys #Esse modulo prove acesso à algumas variaveis de sistema, nesse projeto utilizado para gerenciamento de diretorios\n",
    "import matplotlib.pyplot as plt #Biblioteca padrão pala plotagem de graficos\n",
    "import seaborn as sns #Biblioteca para melhoria de interface dos graficos"
   ]
  },
  {
   "cell_type": "markdown",
   "metadata": {},
   "source": [
    "# Desenvolvimento de funções.\n",
    "Em seguida foi desenvolvido o codigo necessario para a transformação dos arquivos CONLL em arquivos com dados analisaeis, seguindo as orientções de requisitos."
   ]
  },
  {
   "cell_type": "markdown",
   "metadata": {},
   "source": [
    "## getListCount\n",
    "Essa função recebe uma matriz de dados(df) e retorna uma lista com a contagem de inicidencia de uma coluna especifica(title).\n",
    "Utilizada para fazer a contagem dos frames"
   ]
  },
  {
   "cell_type": "code",
   "execution_count": 2,
   "metadata": {},
   "outputs": [],
   "source": [
    "def getListCount(df,title):\n",
    "    listOfterms = df[title].value_counts()\n",
    "    return listOfterms[1:]"
   ]
  },
  {
   "cell_type": "markdown",
   "metadata": {},
   "source": [
    "# returnHeaderAndContent\n",
    "Essa função recebe uma matriz de dados (df) retorna duas matrizes, uma com todos os dados referentes a primeira sentença  e outro com o restante do conteudo da matriz\n",
    "Essa função é executada duas vezes, uma vez para separar o titulo da revista e o resumo todo e em seguida o titulo do resumo e o conteudo"
   ]
  },
  {
   "cell_type": "code",
   "execution_count": 3,
   "metadata": {},
   "outputs": [],
   "source": [
    "def returnHeaderAndContent(df):\n",
    "    for index, row in df.iterrows():\n",
    "        if(index != row['ID']-1):\n",
    "                index_title = index\n",
    "                break\n",
    "    temp = index_title\n",
    "    count = temp\n",
    "    while temp == count:\n",
    "        if(df.iloc[temp-1]['FORM'] != df.iloc[index_title-1]['FORM']):\n",
    "            break\n",
    "        count = count + index_title\n",
    "        temp  = temp + index_title\n",
    "    return  df.iloc[:temp-index_title].reset_index(drop=True), df.iloc[temp-index_title:].reset_index(drop=True)"
   ]
  },
  {
   "cell_type": "markdown",
   "metadata": {},
   "source": [
    "## getPlot\n",
    "Essa função recebe uma matriz de dados(df), um nome de uma coluna(label),o nome da pasta atual(directory) \n",
    "e o nome do arquivo a ser salvo(filename).\n",
    "Ele gera um grafico dos dados da matriz e salva esse grafico em um arquivo na pasta e com o nome especificados."
   ]
  },
  {
   "cell_type": "code",
   "execution_count": 4,
   "metadata": {},
   "outputs": [],
   "source": [
    "def getPlot(df,label,directory,fileName):\n",
    "    sns.set(style=\"whitegrid\")\n",
    "    fig = plt.figure(figsize=(23, 10))\n",
    "    fig.subplots_adjust(bottom=0.4)\n",
    "    plt.xticks(rotation=70)\n",
    "    ax = sns.barplot(x=\"index\", y=label, data=df)\n",
    "    my_path = \"..\\\\exportsOfAbstracts\\\\\"+directory\n",
    "    fig.savefig(os.path.join(my_path, fileName))  "
   ]
  },
  {
   "cell_type": "markdown",
   "metadata": {},
   "source": [
    "## exportToExcel\n",
    "Essa função recebe uma matriz de dados(df), o nome da pasta atual(dirName) o nome do journal (name) e uma identificação da\n",
    "parte do resumo q esta sendo salva(pos).\n",
    "Gera um arquivo excel dessa matriz na pasta e com o nome especificados."
   ]
  },
  {
   "cell_type": "code",
   "execution_count": 5,
   "metadata": {},
   "outputs": [],
   "source": [
    "def exportToExcel(df,dirName,name,pos):\n",
    "    allFileName = \"..\\\\exportsOfAbstracts\\\\\"+dirName+\"\\\\\"+name+pos+\".xls\"\n",
    "    try:\n",
    "        makeDir = \"..\\\\exportsOfAbstracts\\\\\"+dirName\n",
    "        os.makedirs( makeDir );\n",
    "    except:\n",
    "        print()\n",
    "    df.to_excel(allFileName, index = None, header=True)"
   ]
  },
  {
   "cell_type": "markdown",
   "metadata": {},
   "source": [
    "# Processo de extração dos dados\n",
    "## Listagem e criação de pastas\n",
    "Utilizando a pasta do arquivo atual como base, inicialmente são listados todos os arquivos dessa pasta e adicionado na variavel directories. Em seguida é criado uma nova pasta chamada \"exportsOfAbstracts\" em um diretorio anterior ao da base."
   ]
  },
  {
   "cell_type": "code",
   "execution_count": 6,
   "metadata": {},
   "outputs": [
    {
     "name": "stdout",
     "output_type": "stream",
     "text": [
      "Ja Existe\n"
     ]
    }
   ],
   "source": [
    "# Open a file\n",
    "path = \".\"\n",
    "directories = os.listdir( path )\n",
    "try:\n",
    "    makeDir = \"..\\\\exportsOfAbstracts\"\n",
    "    os.makedirs( makeDir )\n",
    "except:\n",
    "  print(\"Ja Existe\")"
   ]
  },
  {
   "cell_type": "markdown",
   "metadata": {},
   "source": [
    "## Remoção de pastas não utilizadas\n",
    "São retirados os arquivos e diretorios que não são relevantes para a analise."
   ]
  },
  {
   "cell_type": "code",
   "execution_count": 7,
   "metadata": {},
   "outputs": [],
   "source": [
    "try:\n",
    "    directories.remove('.ipynb_checkpoints')\n",
    "    directories.remove('_compilated_csv')\n",
    "    directories.remove('xpdqExport.ipynb')\n",
    "except:\n",
    "  print(\"Erro\")"
   ]
  },
  {
   "cell_type": "markdown",
   "metadata": {},
   "source": [
    "## Extração de dados\n",
    "\n",
    "É criado um laço de repetição passando por todos os diretorios do diretorio base e listado todos os arquivos desse diretorio que possuem a extensão CONLL.\n",
    "    Dessa nova lista tambem é criado um novo laço de repetição para cada arquivo gera uma matriz que possue todos os dados do arquivo CONLL utilizando a função returnHeaderAndContent é possivel separar o titulo do journal do conteudo do resumo. Apos isso utilizando novamente a função returnHeaderAndContent é possivel separar o titulo do resumo do seu conteudo e separalos em matrizes diferentes.\n",
    "    Utilizando essas matrizes recem criadas é utilizada a função getListCount para obter a contagem dos frames e colocado em quatro variaveis representando uma lista de frames do arquivo todo, uma representando apenas os frames do titulo do journal, uma representando a do titulo do resumo e a ultima do conteudo do resumo.\n",
    "    Atravez da matriz de titulo do journal é retirado o nome do Journal e transmado em uma variavel e em seguida utilizando as funções exportToExcel com cada uma das listagens é criado um arquivo excel com a incidendia de frames. Apos essa extração é utiliada a função getPlot para cada listagem tm para gerar os graficos.\n",
    "    Apos a conclusão das extrações essa repetiçã passa para o proximo arquivo da listagem de arquivos CONLL. Ao final dessa listagem ele retorna ao primeiro laço de repetição que passa para o proximo diretorio onde repete o processo até finalizar os arquivos e encerrar a extração.\n"
   ]
  },
  {
   "cell_type": "code",
   "execution_count": null,
   "metadata": {},
   "outputs": [],
   "source": [
    "for directory in directories:\n",
    "    columns = ['ID', 'FORM' ,'LEMMA' ,'PLEMMA' ,'POS' ,'PPOS' ,\n",
    "       'FEAT' ,'PFEAT' ,'HEAD' ,'PHEAD' ,'DEPREL' ,'PDEPREL','FILLPRED','PRED','APRED']\n",
    "    listOfFiles = []\n",
    "    folderPath = \".//{}\".format(directory)\n",
    "    files = os.listdir( folderPath )\n",
    "    for fl in files:\n",
    "        if(fl.endswith('.conll')):\n",
    "            listOfFiles.append(\"{}//{}\".format(folderPath,fl))\n",
    "\n",
    "    for i in listOfFiles[:1]:\n",
    "        df_all = pd.read_csv(i,sep=\"\\t\",names=columns)\n",
    "        df_title, df_temp = returnHeaderAndContent(df_all)\n",
    "        df_head, df_content = returnHeaderAndContent(df_temp)\n",
    "        list_all = getListCount(df_all,'PRED')[1:].to_frame().reset_index()\n",
    "        list_title = getListCount(df_title,'PRED')[1:].to_frame().reset_index()\n",
    "        list_head  = getListCount(df_head,'PRED')[1:].to_frame().reset_index()\n",
    "        list_content = getListCount(df_content,'PRED')[1:].to_frame().reset_index()\n",
    "        max_id = df_head[\"ID\"].max()-1\n",
    "        if(max_id > 10):\n",
    "            max_id = 10\n",
    "        new_name =\"\"\n",
    "        for s in df_head.iloc[0:max_id][\"FORM\"]:\n",
    "            new_name = new_name+\"_\"+s[0].upper()+s[1:]\n",
    "        new_name = ''.join(e for e in new_name if e.isalnum())\n",
    "        exportToExcel(list_all,directory,new_name,\"_all\")\n",
    "        getPlot(list_all,\"PRED\",directory,new_name+\"_all.png\")\n",
    "        exportToExcel(list_title,directory,new_name,\"_title\")\n",
    "        getPlot(list_title,\"PRED\",directory,new_name+\"_title.png\")\n",
    "        exportToExcel(list_head,directory,new_name,\"_head\")\n",
    "        getPlot(list_head,\"PRED\",directory,new_name+\"_head.png\")        \n",
    "        exportToExcel(list_content,directory,new_name,\"_content\")\n",
    "        getPlot(list_content,\"PRED\",directory,new_name+\"_content.png\")    \n",
    "        \n"
   ]
  }
 ],
 "metadata": {
  "kernelspec": {
   "display_name": "Python 3",
   "language": "python",
   "name": "python3"
  },
  "language_info": {
   "codemirror_mode": {
    "name": "ipython",
    "version": 3
   },
   "file_extension": ".py",
   "mimetype": "text/x-python",
   "name": "python",
   "nbconvert_exporter": "python",
   "pygments_lexer": "ipython3",
   "version": "3.7.3"
  }
 },
 "nbformat": 4,
 "nbformat_minor": 2
}
