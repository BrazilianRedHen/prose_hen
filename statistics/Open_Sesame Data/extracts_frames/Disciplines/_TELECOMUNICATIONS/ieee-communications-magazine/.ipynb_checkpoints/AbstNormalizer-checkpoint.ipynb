{
 "cells": [
  {
   "cell_type": "code",
   "execution_count": 1,
   "metadata": {},
   "outputs": [],
   "source": [
    "import numpy as np\n",
    "import pandas as pd\n",
    "import glob\n",
    "import os"
   ]
  },
  {
   "cell_type": "code",
   "execution_count": 2,
   "metadata": {},
   "outputs": [],
   "source": [
    "def getListCount(df,title):\n",
    "    listOfterms = df[title].value_counts()\n",
    "    return listOfterms[1:]"
   ]
  },
  {
   "cell_type": "code",
   "execution_count": 3,
   "metadata": {},
   "outputs": [],
   "source": [
    "def returnFullAbst(df):\n",
    "    index_final = 0\n",
    "    for index, row in df.iterrows():\n",
    "        if(index != row['ID']-1):\n",
    "            index_final = index\n",
    "            break\n",
    "    return df.iloc[index_final:].reset_index(drop=True)"
   ]
  },
  {
   "cell_type": "code",
   "execution_count": 4,
   "metadata": {},
   "outputs": [],
   "source": [
    "def returnHeaderAndContent(df):\n",
    "    for index, row in df.iterrows():\n",
    "        if(index != row['ID']-1):\n",
    "                index_title = index\n",
    "                break\n",
    "    temp = index_title\n",
    "    count = temp\n",
    "    while temp == count:\n",
    "        if(df.iloc[temp-1]['FORM'] != df.iloc[index_title-1]['FORM']):\n",
    "            break\n",
    "        count = count + index_title\n",
    "        temp  = temp + index_title\n",
    "    return  df.iloc[:temp-index_title].reset_index(drop=True), df.iloc[temp-index_title:].reset_index(drop=True)"
   ]
  },
  {
   "cell_type": "code",
   "execution_count": 5,
   "metadata": {},
   "outputs": [
    {
     "name": "stdout",
     "output_type": "stream",
     "text": [
      "2015-apr_JA_10-1109_MCOM-2015-7081071_ieee-communications-magazine_yang_nan.seg.conll - 01\n",
      "2015-apr_JA_10-1109_MCOM-2015-7081080_ieee-communications-magazine_ding_zhiguo.seg.conll - 02\n",
      "2015-apr_JA_10-1109_MCOM-2015-7081084_ieee-communications-magazine_bi_suzhi.seg.conll - 03\n",
      "2015-apr_JA_10-1109_MCOM-2015-7081086_ieee-communications-magazine_chen_xiaoming.seg.conll - 04\n",
      "2015-feb_JA_10-1109_MCOM-2015-7045396_ieee-communications-magazine_han.seg.conll - 05\n",
      "2015-jan_JA_10-1109_MCOM-2015-7010533_ieee-communications-magazine_han_shuangfeng.seg.conll - 06\n",
      "2015-jan_JA_10-1109_MCOM-2015-7010536_ieee-communications-magazine_qiao_jian.seg.conll - 07\n",
      "2015-jun_JA_10-1109_MCOM-2015-7120022_ieee-communications-magazine_huang_kaibin.seg.conll - 08\n",
      "2015-mar_JA_10-1109_MCOM-2015-7060497_ieee-communications-magazine_yang_chouchang.seg.conll - 09\n",
      "2015-mar_JA_10-1109_MCOM-2015-7060498_ieee-communications-magazine_zhang_haijun.seg.conll - 10\n",
      "2015-mar_JA_10-1109_MCOM-2015-7060516_ieee-communications-magazine_akyildiz.seg.conll - 11\n",
      "2015-may_JA_10-1109_MCOM-2015-7105641_ieee-communications-magazine_gu_yunan.seg.conll - 12\n",
      "2015-may_JA_10-1109_MCOM-2015-7105647_ieee-communications-magazine_heino_mikko.seg.conll - 13\n",
      "2015-may_JA_10-1109_MCOM-2015-7105650_ieee-communications-magazine_goyal_sanjay.seg.conll - 14\n",
      "2015-may_JA_10-1109_MCOM-2015-7105651_ieee-communications-magazine_zhang_zhongshan.seg.conll - 15\n",
      "2015-sep_JA_00-0000_0000000000000000_ieee-communications-magazine_dai_linglong.seg.conll - 16\n",
      "2015-sep_JA_00-0000_0000000000000000_ieee-communications-magazine_shariatmadari_hamidreza.seg.conll - 17\n",
      "2016-feb_JA_00-0000_0000000000000000_ieee-communications-magazine_bjornson_emil.seg.conll - 18\n",
      "2016-jul_JA_10-1109_MCOM-2016-7509396_ieee-communications-magazine_basar_ertugrul.seg.conll - 19\n",
      "2016-may_JA_00-0000_0000000000000000_ieee-communications-magazine_zeng_yong.seg.conll - 20\n"
     ]
    }
   ],
   "source": [
    "names = ['01','02','03','04','05','06','07','08','09','10',\n",
    "       '11','12','13','14','15','16','17','18','19','20','21','22','23','24','25']\n",
    "number = 0\n",
    "list_con = []\n",
    "for filename in os.listdir(\".\"):\n",
    "    if filename.endswith(\".conll\"):\n",
    "        list_con.append(filename)\n",
    "        \n",
    "number = 0\n",
    "for file in list_con:\n",
    "    print(\"{} - {}\".format(file,names[number] ))\n",
    "    os.rename(file, names[number]+\".conll\")\n",
    "    number = number+1 "
   ]
  },
  {
   "cell_type": "code",
   "execution_count": 6,
   "metadata": {},
   "outputs": [],
   "source": [
    "columns = ['ID', 'FORM' ,'LEMMA' ,'PLEMMA' ,'POS' ,'PPOS' ,'FEAT' ,'PFEAT' ,'HEAD' ,'PHEAD' ,'DEPREL' ,'PDEPREL','FILLPRED','PRED','APRED']\n",
    "df01 = returnFullAbst(pd.read_csv(\"01.conll\",sep=\"\\t\",names=columns))\n",
    "df02 = returnFullAbst(pd.read_csv(\"02.conll\",sep=\"\\t\",names=columns))\n",
    "df03 = returnFullAbst(pd.read_csv(\"03.conll\",sep=\"\\t\",names=columns))\n",
    "df04 = returnFullAbst(pd.read_csv(\"04.conll\",sep=\"\\t\",names=columns))\n",
    "df05 = returnFullAbst(pd.read_csv(\"05.conll\",sep=\"\\t\",names=columns))\n",
    "df06 = returnFullAbst(pd.read_csv(\"06.conll\",sep=\"\\t\",names=columns))\n",
    "df07 = returnFullAbst(pd.read_csv(\"07.conll\",sep=\"\\t\",names=columns))\n",
    "df08 = returnFullAbst(pd.read_csv(\"08.conll\",sep=\"\\t\",names=columns))\n",
    "df09 = returnFullAbst(pd.read_csv(\"09.conll\",sep=\"\\t\",names=columns))\n",
    "df10 = returnFullAbst(pd.read_csv(\"10.conll\",sep=\"\\t\",names=columns))\n",
    "df11 = returnFullAbst(pd.read_csv(\"11.conll\",sep=\"\\t\",names=columns))\n",
    "df12 = returnFullAbst(pd.read_csv(\"12.conll\",sep=\"\\t\",names=columns))\n",
    "df13 = returnFullAbst(pd.read_csv(\"13.conll\",sep=\"\\t\",names=columns))\n",
    "df14 = returnFullAbst(pd.read_csv(\"14.conll\",sep=\"\\t\",names=columns))\n",
    "df15 = returnFullAbst(pd.read_csv(\"15.conll\",sep=\"\\t\",names=columns))\n",
    "df16 = returnFullAbst(pd.read_csv(\"16.conll\",sep=\"\\t\",names=columns))\n",
    "df17 = returnFullAbst(pd.read_csv(\"17.conll\",sep=\"\\t\",names=columns))\n",
    "df18 = returnFullAbst(pd.read_csv(\"18.conll\",sep=\"\\t\",names=columns))\n",
    "df19 = returnFullAbst(pd.read_csv(\"19.conll\",sep=\"\\t\",names=columns))\n",
    "df20 = returnFullAbst(pd.read_csv(\"20.conll\",sep=\"\\t\",names=columns))"
   ]
  },
  {
   "cell_type": "code",
   "execution_count": 7,
   "metadata": {},
   "outputs": [],
   "source": [
    "df01_head, df01_content = returnHeaderAndContent(df01)\n",
    "df02_head, df02_content = returnHeaderAndContent(df02)\n",
    "df03_head, df03_content = returnHeaderAndContent(df03)\n",
    "df04_head, df04_content = returnHeaderAndContent(df04)\n",
    "df05_head, df05_content = returnHeaderAndContent(df05)\n",
    "df06_head, df06_content = returnHeaderAndContent(df06)\n",
    "df07_head, df07_content = returnHeaderAndContent(df07)\n",
    "df08_head, df08_content = returnHeaderAndContent(df08)\n",
    "df09_head, df09_content = returnHeaderAndContent(df09)\n",
    "df10_head, df10_content = returnHeaderAndContent(df10)\n",
    "df11_head, df11_content = returnHeaderAndContent(df11)\n",
    "df12_head, df12_content = returnHeaderAndContent(df12)\n",
    "df13_head, df13_content = returnHeaderAndContent(df13)\n",
    "df14_head, df14_content = returnHeaderAndContent(df14)\n",
    "df15_head, df15_content = returnHeaderAndContent(df15)\n",
    "df16_head, df16_content = returnHeaderAndContent(df16)\n",
    "df17_head, df17_content = returnHeaderAndContent(df17)\n",
    "df18_head, df18_content = returnHeaderAndContent(df18)\n",
    "df19_head, df19_content = returnHeaderAndContent(df19)\n",
    "df20_head, df20_content = returnHeaderAndContent(df20)"
   ]
  },
  {
   "cell_type": "code",
   "execution_count": 8,
   "metadata": {},
   "outputs": [],
   "source": [
    "df_totals =  pd.concat([df01,df02,df03,df04,df05,df06,df07,df08,df09,df10,\n",
    "                        df11,df12,df13,df14,df15,df16,df17,df18,df19,df20], join=\"inner\")\n",
    "df_totals.index = pd.RangeIndex(len(df_totals.index))\n",
    "\n",
    "df_totals_head =  pd.concat([df01_head,df02_head,df03_head,df04_head,df05_head,\n",
    "                             df06_head,df07_head,df08_head,df09_head,df10_head,\n",
    "                             df11_head,df12_head,df13_head,df14_head,df15_head,\n",
    "                             df16_head,df17_head,df18_head,df19_head,df20_head], join=\"inner\")\n",
    "df_totals_head.index = pd.RangeIndex(len(df_totals_head.index))\n",
    "\n",
    "df_totals_content =  pd.concat([df01_content,df02_content,df03_content,df04_content,df05_content,\n",
    "                        df06_content,df07_content,df08_content,df09_content,df10_content,\n",
    "                        df11_content,df12_content,df13_content,df14_content,df15_content,\n",
    "                        df16_content,df17_content,df18_content,df19_content,df20_content], join=\"inner\")\n",
    "df_totals_content.index = pd.RangeIndex(len(df_totals_content.index))\n"
   ]
  },
  {
   "cell_type": "code",
   "execution_count": 9,
   "metadata": {},
   "outputs": [],
   "source": [
    "dirpath = os.getcwd()\n",
    "allFileName = os.path.basename(dirpath)+\"_all.csv\"\n",
    "headFileName = os.path.basename(dirpath)+\"_head.csv\"\n",
    "contentFileName = os.path.basename(dirpath)+\"_content.csv\"\n",
    "newFolder = os.path.basename(dirpath)\n",
    "newFolderDirectory = '..\\\\_compilated_csv\\\\'+newFolder\n",
    "if not os.path.exists(newFolderDirectory):\n",
    "    os.mkdir(newFolderDirectory)"
   ]
  },
  {
   "cell_type": "code",
   "execution_count": 10,
   "metadata": {},
   "outputs": [],
   "source": [
    "allDirpath = '..\\\\_compilated_csv\\\\'+newFolder+'\\\\'+allFileName\n",
    "headDirpath = '..\\\\_compilated_csv\\\\'+newFolder+'\\\\'+headFileName\n",
    "contentDirpath = '..\\\\_compilated_csv\\\\'+newFolder+'\\\\'+contentFileName\n",
    "df_totals.to_csv(allDirpath, index = None, header=True)\n",
    "df_totals_head.to_csv(headDirpath, index = None, header=True)\n",
    "df_totals_content.to_csv(contentDirpath, index = None, header=True)"
   ]
  },
  {
   "cell_type": "code",
   "execution_count": null,
   "metadata": {},
   "outputs": [],
   "source": []
  }
 ],
 "metadata": {
  "kernelspec": {
   "display_name": "Python 3",
   "language": "python",
   "name": "python3"
  },
  "language_info": {
   "codemirror_mode": {
    "name": "ipython",
    "version": 3
   },
   "file_extension": ".py",
   "mimetype": "text/x-python",
   "name": "python",
   "nbconvert_exporter": "python",
   "pygments_lexer": "ipython3",
   "version": "3.7.3"
  }
 },
 "nbformat": 4,
 "nbformat_minor": 2
}
