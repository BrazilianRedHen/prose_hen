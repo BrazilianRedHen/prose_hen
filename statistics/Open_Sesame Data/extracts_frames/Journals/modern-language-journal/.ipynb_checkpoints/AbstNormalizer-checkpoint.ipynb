{
 "cells": [
  {
   "cell_type": "code",
   "execution_count": 1,
   "metadata": {},
   "outputs": [],
   "source": [
    "import numpy as np\n",
    "import pandas as pd\n",
    "import glob\n",
    "import os"
   ]
  },
  {
   "cell_type": "code",
   "execution_count": 2,
   "metadata": {},
   "outputs": [],
   "source": [
    "def getListCount(df,title):\n",
    "    listOfterms = df[title].value_counts()\n",
    "    return listOfterms[1:]"
   ]
  },
  {
   "cell_type": "code",
   "execution_count": 3,
   "metadata": {},
   "outputs": [],
   "source": [
    "def returnFullAbst(df):\n",
    "    index_final = 0\n",
    "    for index, row in df.iterrows():\n",
    "        if(index != row['ID']-1):\n",
    "            index_final = index\n",
    "            break\n",
    "    return df.iloc[index_final:].reset_index(drop=True)"
   ]
  },
  {
   "cell_type": "code",
   "execution_count": 4,
   "metadata": {},
   "outputs": [],
   "source": [
    "def returnHeaderAndContent(df):\n",
    "    for index, row in df.iterrows():\n",
    "        if(index != row['ID']-1):\n",
    "                index_title = index\n",
    "                break\n",
    "    temp = index_title\n",
    "    count = temp\n",
    "    while temp == count:\n",
    "        if(df.iloc[temp-1]['FORM'] != df.iloc[index_title-1]['FORM']):\n",
    "            break\n",
    "        count = count + index_title\n",
    "        temp  = temp + index_title\n",
    "    return  df.iloc[:temp-index_title].reset_index(drop=True), df.iloc[temp-index_title:].reset_index(drop=True)"
   ]
  },
  {
   "cell_type": "code",
   "execution_count": 5,
   "metadata": {},
   "outputs": [
    {
     "name": "stdout",
     "output_type": "stream",
     "text": [
      "2015-fal_JA_10-1111_modl-12183_modern-language-journal_athanasopoulos_panos.seg.conll - 01\n",
      "2015-fal_JA_10-1111_modl-12236_modern-language-journal_golombek_paula.seg.conll - 02\n",
      "2015-fal_JA_10-1111_modl-12239_modern-language-journal_kubanyiova_magdalena.seg.conll - 03\n",
      "2015-fal_JA_10-1111_modl-12242_modern-language-journal_johnson_karen.seg.conll - 04\n",
      "2015-fal_JA_10-1111_modl-12245_modern-language-journal_burns_anne.seg.conll - 05\n",
      "2015-spr_JA_10-1111_modl-12185_modern-language-journal_crowther_dustin.seg.conll - 06\n",
      "2015-spr_JA_10-1111_modl-12187_modern-language-journal_thompson_amy.seg.conll - 07\n",
      "2015-spr_JA_10-1111_modl-12189_modern-language-journal_kang_eunyoung.seg.conll - 08\n",
      "2015-spr_JA_10-1111_modl-12190_modern-language-journal_grey_sarah.seg.conll - 09\n",
      "2015-sum_JA_10-1111_j-1540-4781-2015-12181-x_modern-language-journal_flecken_monique.seg.conll - 10\n",
      "2015-sum_JA_10-1111_modl-12214_modern-language-journal_henry_alastair.seg.conll - 11\n",
      "2016-aug_JA_10-1111_modl-12310_modern-language-journal_kibler_amanda.seg.conll - 12\n",
      "2016-fal_JA_10-1111_modl-12343_modern-language-journal_di-silvio_francesca.seg.conll - 13\n",
      "2016-spr_JA_10-1111_modl-12302_modern-language-journal_chun_dorothy.seg.conll - 14\n",
      "2016-spr_JA_10-1111_modl-12303_modern-language-journal_wiley_terrence.seg.conll - 15\n",
      "2016-spr_JA_10-1111_modl-12305_modern-language-journal_collins_laura.seg.conll - 16\n",
      "2016-spr_JA_10-1111_modl-12313_modern-language-journal_sasayama_shoko.seg.conll - 17\n",
      "2016-spr_JA_10-1111_modl-12318_modern-language-journal_van-compernolle_remi.seg.conll - 18\n",
      "2016-sum_JA_10-1111_modl-12304_modern-language-journal_kubanyiova_magdalena.seg.conll - 19\n",
      "2016-sum_JA_10-1111_modl-12332_modern-language-journal_cunningham_joseph.seg.conll - 20\n",
      "2016-sum_JA_10-1111_modl-12333_modern-language-journal_acheson_kris.seg.conll - 21\n",
      "2016-sum_JA_10-1111_modl-12335_modern-language-journal_plonsky_luke.seg.conll - 22\n",
      "2016-win_JA_10-1111_modl-12347_modern-language-journal_hiver_phil.seg.conll - 23\n",
      "2016-win_JA_10-1111_modl-12351_modern-language-journal_umino_tae.seg.conll - 24\n"
     ]
    }
   ],
   "source": [
    "names = ['01','02','03','04','05','06','07','08','09','10',\n",
    "       '11','12','13','14','15','16','17','18','19','20','21','22','23','24','25']\n",
    "number = 0\n",
    "list_con = []\n",
    "for filename in os.listdir(\".\"):\n",
    "    if filename.endswith(\".conll\"):\n",
    "        list_con.append(filename)\n",
    "        \n",
    "number = 0\n",
    "for file in list_con:\n",
    "    print(\"{} - {}\".format(file,names[number] ))\n",
    "    os.rename(file, names[number]+\".conll\")\n",
    "    number = number+1 "
   ]
  },
  {
   "cell_type": "code",
   "execution_count": 6,
   "metadata": {},
   "outputs": [],
   "source": [
    "columns = ['ID', 'FORM' ,'LEMMA' ,'PLEMMA' ,'POS' ,'PPOS' ,'FEAT' ,'PFEAT' ,'HEAD' ,'PHEAD' ,'DEPREL' ,'PDEPREL','FILLPRED','PRED','APRED']\n",
    "df01 = returnFullAbst(pd.read_csv(\"01.conll\",sep=\"\\t\",names=columns))\n",
    "df02 = returnFullAbst(pd.read_csv(\"02.conll\",sep=\"\\t\",names=columns))\n",
    "df03 = returnFullAbst(pd.read_csv(\"03.conll\",sep=\"\\t\",names=columns))\n",
    "df04 = returnFullAbst(pd.read_csv(\"04.conll\",sep=\"\\t\",names=columns))\n",
    "df05 = returnFullAbst(pd.read_csv(\"05.conll\",sep=\"\\t\",names=columns))\n",
    "df06 = returnFullAbst(pd.read_csv(\"06.conll\",sep=\"\\t\",names=columns))\n",
    "df07 = returnFullAbst(pd.read_csv(\"07.conll\",sep=\"\\t\",names=columns))\n",
    "df08 = returnFullAbst(pd.read_csv(\"08.conll\",sep=\"\\t\",names=columns))\n",
    "df09 = returnFullAbst(pd.read_csv(\"09.conll\",sep=\"\\t\",names=columns))\n",
    "df10 = returnFullAbst(pd.read_csv(\"10.conll\",sep=\"\\t\",names=columns))\n",
    "df11 = returnFullAbst(pd.read_csv(\"11.conll\",sep=\"\\t\",names=columns))\n",
    "df12 = returnFullAbst(pd.read_csv(\"12.conll\",sep=\"\\t\",names=columns))\n",
    "df13 = returnFullAbst(pd.read_csv(\"13.conll\",sep=\"\\t\",names=columns))\n",
    "df14 = returnFullAbst(pd.read_csv(\"14.conll\",sep=\"\\t\",names=columns))\n",
    "df15 = returnFullAbst(pd.read_csv(\"15.conll\",sep=\"\\t\",names=columns))\n",
    "df16 = returnFullAbst(pd.read_csv(\"16.conll\",sep=\"\\t\",names=columns))\n",
    "df17 = returnFullAbst(pd.read_csv(\"17.conll\",sep=\"\\t\",names=columns))\n",
    "df18 = returnFullAbst(pd.read_csv(\"18.conll\",sep=\"\\t\",names=columns))\n",
    "df19 = returnFullAbst(pd.read_csv(\"19.conll\",sep=\"\\t\",names=columns))\n",
    "df20 = returnFullAbst(pd.read_csv(\"20.conll\",sep=\"\\t\",names=columns))"
   ]
  },
  {
   "cell_type": "code",
   "execution_count": 7,
   "metadata": {},
   "outputs": [],
   "source": [
    "df01_head, df01_content = returnHeaderAndContent(df01)\n",
    "df02_head, df02_content = returnHeaderAndContent(df02)\n",
    "df03_head, df03_content = returnHeaderAndContent(df03)\n",
    "df04_head, df04_content = returnHeaderAndContent(df04)\n",
    "df05_head, df05_content = returnHeaderAndContent(df05)\n",
    "df06_head, df06_content = returnHeaderAndContent(df06)\n",
    "df07_head, df07_content = returnHeaderAndContent(df07)\n",
    "df08_head, df08_content = returnHeaderAndContent(df08)\n",
    "df09_head, df09_content = returnHeaderAndContent(df09)\n",
    "df10_head, df10_content = returnHeaderAndContent(df10)\n",
    "df11_head, df11_content = returnHeaderAndContent(df11)\n",
    "df12_head, df12_content = returnHeaderAndContent(df12)\n",
    "df13_head, df13_content = returnHeaderAndContent(df13)\n",
    "df14_head, df14_content = returnHeaderAndContent(df14)\n",
    "df15_head, df15_content = returnHeaderAndContent(df15)\n",
    "df16_head, df16_content = returnHeaderAndContent(df16)\n",
    "df17_head, df17_content = returnHeaderAndContent(df17)\n",
    "df18_head, df18_content = returnHeaderAndContent(df18)\n",
    "df19_head, df19_content = returnHeaderAndContent(df19)\n",
    "df20_head, df20_content = returnHeaderAndContent(df20)"
   ]
  },
  {
   "cell_type": "code",
   "execution_count": 8,
   "metadata": {},
   "outputs": [],
   "source": [
    "df_totals =  pd.concat([df01,df02,df03,df04,df05,df06,df07,df08,df09,df10,\n",
    "                        df11,df12,df13,df14,df15,df16,df17,df18,df19,df20], join=\"inner\")\n",
    "df_totals.index = pd.RangeIndex(len(df_totals.index))\n",
    "\n",
    "df_totals_head =  pd.concat([df01_head,df02_head,df03_head,df04_head,df05_head,\n",
    "                             df06_head,df07_head,df08_head,df09_head,df10_head,\n",
    "                             df11_head,df12_head,df13_head,df14_head,df15_head,\n",
    "                             df16_head,df17_head,df18_head,df19_head,df20_head], join=\"inner\")\n",
    "df_totals_head.index = pd.RangeIndex(len(df_totals_head.index))\n",
    "\n",
    "df_totals_content =  pd.concat([df01_content,df02_content,df03_content,df04_content,df05_content,\n",
    "                        df06_content,df07_content,df08_content,df09_content,df10_content,\n",
    "                        df11_content,df12_content,df13_content,df14_content,df15_content,\n",
    "                        df16_content,df17_content,df18_content,df19_content,df20_content], join=\"inner\")\n",
    "df_totals_content.index = pd.RangeIndex(len(df_totals_content.index))\n"
   ]
  },
  {
   "cell_type": "code",
   "execution_count": 9,
   "metadata": {},
   "outputs": [],
   "source": [
    "dirpath = os.getcwd()\n",
    "allFileName = os.path.basename(dirpath)+\"_all.csv\"\n",
    "headFileName = os.path.basename(dirpath)+\"_head.csv\"\n",
    "contentFileName = os.path.basename(dirpath)+\"_content.csv\"\n",
    "newFolder = os.path.basename(dirpath)\n",
    "newFolderDirectory = '..\\\\_compilated_csv\\\\'+newFolder\n",
    "if not os.path.exists(newFolderDirectory):\n",
    "    os.mkdir(newFolderDirectory)"
   ]
  },
  {
   "cell_type": "code",
   "execution_count": 10,
   "metadata": {},
   "outputs": [],
   "source": [
    "allDirpath = '..\\\\_compilated_csv\\\\'+newFolder+'\\\\'+allFileName\n",
    "headDirpath = '..\\\\_compilated_csv\\\\'+newFolder+'\\\\'+headFileName\n",
    "contentDirpath = '..\\\\_compilated_csv\\\\'+newFolder+'\\\\'+contentFileName\n",
    "df_totals.to_csv(allDirpath, index = None, header=True)\n",
    "df_totals_head.to_csv(headDirpath, index = None, header=True)\n",
    "df_totals_content.to_csv(contentDirpath, index = None, header=True)"
   ]
  },
  {
   "cell_type": "code",
   "execution_count": null,
   "metadata": {},
   "outputs": [],
   "source": []
  }
 ],
 "metadata": {
  "kernelspec": {
   "display_name": "Python 3",
   "language": "python",
   "name": "python3"
  },
  "language_info": {
   "codemirror_mode": {
    "name": "ipython",
    "version": 3
   },
   "file_extension": ".py",
   "mimetype": "text/x-python",
   "name": "python",
   "nbconvert_exporter": "python",
   "pygments_lexer": "ipython3",
   "version": "3.7.3"
  }
 },
 "nbformat": 4,
 "nbformat_minor": 2
}
