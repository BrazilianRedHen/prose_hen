{
 "cells": [
  {
   "cell_type": "markdown",
   "metadata": {},
   "source": [
    "# Desenvolvimento de codigo\n",
    "Apos o recebmento dos arquivos CONLL, foi feito a separação dos arquivos em suas determinadas revistas, em seguida foram separados os arquivos para as pastas separadas por areas de conhecimento. Apos esse processo foi iniciado o processo de codificação de uma atraves da plataforma JUPYTER para extrair as informações em arquivos ais facilmentes editaveis. Para isso forom utiizadas as segintes bibliotecas:"
   ]
  },
  {
   "cell_type": "code",
   "execution_count": 18,
   "metadata": {
    "collapsed": false
   },
   "outputs": [],
   "source": [
    "import numpy as np #Biblioteca de suporte de arrays e matriz multidimensionais\n",
    "import pandas as pd #Biblioteca de manipulação e análise de dado\n",
    "import os #Esse modulo prove alguns metodos para atuar com o sistema operacional, nesse projeto utilizado para gerenciamento de diretorios\n",
    "import sys #Esse modulo prove acesso à algumas variaveis de sistema, nesse projeto utilizado para gerenciamento de diretorios\n",
    "import matplotlib.pyplot as plt #Biblioteca padrão pala plotagem de graficos\n",
    "import seaborn as sns #Biblioteca para melhoria de interface dos graficos"
   ]
  },
  {
   "cell_type": "markdown",
   "metadata": {},
   "source": [
    "# Desenvolvimento de funções.\n",
    "    Em seguida foi desenvolvido o codigo necessario para a transformação dos arquivos CONLL em arquivos com dados analisaeis, seguindo as orientções de requisitos.\n",
    "\n",
    "## getListCount\n",
    "    Essa função recebe uma matriz de dados(df) e retorna uma lista com a contagem de inicidencia de uma coluna especifica(title).\n",
    "    Utilizada para fazer a contagem dos frames"
   ]
  },
  {
   "cell_type": "code",
   "execution_count": 19,
   "metadata": {
    "collapsed": true
   },
   "outputs": [],
   "source": [
    "def getListCount(df,title):\n",
    "    listOfterms = df[title].value_counts()\n",
    "    return listOfterms[1:]"
   ]
  },
  {
   "cell_type": "markdown",
   "metadata": {},
   "source": [
    "# returnHeaderAndContent\n",
    "    Essa função recebe uma matriz de dados (df) retorna duas matrizes, uma com todos os dados referentes a primeira sentença  e outro com o restante do conteudo da matriz\n",
    "    Essa função é executada duas vezes, uma vez para separar o titulo da revista e o resumo todo e em seguida o titulo do resumo e o conteudo"
   ]
  },
  {
   "cell_type": "code",
   "execution_count": 20,
   "metadata": {
    "collapsed": true
   },
   "outputs": [],
   "source": [
    "def returnHeaderAndContent(df):\n",
    "    for index, row in df.iterrows():\n",
    "        if(index != row['ID']-1):\n",
    "            index_title = index\n",
    "            break\n",
    "    temp = index_title\n",
    "    count = temp\n",
    "    while temp == count:\n",
    "        if(df.iloc[temp-1]['FORM'] != df.iloc[index_title-1]['FORM']):\n",
    "            break\n",
    "        count = count + index_title\n",
    "        temp  = temp + index_title\n",
    "    return  df.iloc[:temp-index_title].reset_index(drop=True), df.iloc[temp-index_title:].reset_index(drop=True)"
   ]
  },
  {
   "cell_type": "markdown",
   "metadata": {},
   "source": [
    "## getPlot\n",
    "Essa função recebe uma matriz de dados(df), um nome de uma coluna(label),e o nome do arquivo a ser salvo(filename).\n",
    "Ele gera um grafico dos dados da matriz e salva esse grafico com o nome especificados."
   ]
  },
  {
   "cell_type": "code",
   "execution_count": 21,
   "metadata": {
    "collapsed": true
   },
   "outputs": [],
   "source": [
    "def getPlot(df,label,fileName):\n",
    "    sns.set(style=\"whitegrid\")\n",
    "    fig = plt.figure(figsize=(23, 10))\n",
    "    fig.subplots_adjust(bottom=0.4)\n",
    "    plt.xticks(rotation=70)\n",
    "    try:\n",
    "        ax = sns.barplot(x=\"index\", y=label, data=df)\n",
    "        fig.savefig(fileName)\n",
    "    except:\n",
    "        print(\"\")\n",
    "        \n",
    "    plt.close(fig)"
   ]
  },
  {
   "cell_type": "markdown",
   "metadata": {},
   "source": [
    "# Processo de extração dos dados\n",
    "## Listagem e criação de pastas\n",
    "    Utilizando a pasta do arquivo atual como base, inicialmente são listados todos os arquivos dessa pasta e adicionado na variavel directories."
   ]
  },
  {
   "cell_type": "code",
   "execution_count": 22,
   "metadata": {
    "collapsed": false
   },
   "outputs": [],
   "source": [
    "path = \".\"\n",
    "directories = os.listdir( path )"
   ]
  },
  {
   "cell_type": "markdown",
   "metadata": {},
   "source": [
    "## Remoção de pastas não utilizadas\n",
    "    São retirados os arquivos e diretorios que não são relevantes para a analise."
   ]
  },
  {
   "cell_type": "code",
   "execution_count": 23,
   "metadata": {
    "collapsed": false
   },
   "outputs": [],
   "source": [
    "def cleanDirectory():\n",
    "    try:\n",
    "        for directory in directories:\n",
    "            if(directory.startswith(\".\") or directory.endswith(\".ipynb\") or directory.startswith(\"_\")):\n",
    "                directories.remove(directory)\n",
    "                cleanDirectory()\n",
    "    except:\n",
    "        print(\"\")\n",
    "cleanDirectory()"
   ]
  },
  {
   "cell_type": "code",
   "execution_count": 24,
   "metadata": {
    "collapsed": false
   },
   "outputs": [
    {
     "data": {
      "text/plain": [
       "['milbank-quarterly',\n",
       " 'quality-&-safety',\n",
       " 'global-change-biology-bioenergy',\n",
       " 'advances-in-agronomy',\n",
       " 'academic-medicine',\n",
       " 'theoretical-and-applied-genetics',\n",
       " 'agronomy-for-sustainable-development',\n",
       " 'value-in-health',\n",
       " 'agricultural-and-forest-meteorology',\n",
       " 'health-affairs']"
      ]
     },
     "execution_count": 24,
     "metadata": {},
     "output_type": "execute_result"
    }
   ],
   "source": [
    "directories"
   ]
  },
  {
   "cell_type": "markdown",
   "metadata": {},
   "source": [
    "# Extração de dados\n",
    "\n",
    "    É criado um laço de repetição passando por todos os diretorios do diretorio base e listado todos os arquivos desse diretorio que possuem a extensão CONLL.\n",
    "    Dessa nova lista tambem é criado um novo laço de repetição para cada arquivo gera uma matriz que possue todos os dados do arquivo CONLL utilizando a função returnHeaderAndContent é possivel separar o titulo do journal do conteudo do resumo. Apos isso utilizando novamente a função returnHeaderAndContent é possivel separar o titulo do resumo do seu conteudo e separalos em matrizes diferentes."
   ]
  },
  {
   "cell_type": "code",
   "execution_count": 25,
   "metadata": {
    "collapsed": false
   },
   "outputs": [],
   "source": [
    "columns = ['ID', 'FORM' ,'LEMMA' ,'PLEMMA' ,'POS' ,'PPOS' ,'FEAT' ,'PFEAT' ,'HEAD' ,'PHEAD' ,'DEPREL' ,'PDEPREL','FILLPRED','PRED','APRED']\n",
    "df_all_sum = pd.DataFrame(columns=columns)\n",
    "df_head_sum = pd.DataFrame(columns=columns)\n",
    "df_content_sum = pd.DataFrame(columns=columns)\n",
    "df_title_sum  = pd.DataFrame(columns=columns)\n",
    "df_tempo  = pd.DataFrame(columns=columns)\n",
    "for directory in directories:\n",
    "    columns = ['ID', 'FORM' ,'LEMMA' ,'PLEMMA' ,'POS' ,'PPOS' ,\n",
    "       'FEAT' ,'PFEAT' ,'HEAD' ,'PHEAD' ,'DEPREL' ,'PDEPREL','FILLPRED','PRED','APRED']\n",
    "    listOfFiles = []\n",
    "    folderPath = \".//{}\".format(directory)\n",
    "    files = os.listdir( folderPath )\n",
    "    for fl in files:\n",
    "\n",
    "        if(fl.endswith('.conll')):\n",
    "            listOfFiles.append(\"{}//{}\".format(folderPath,fl))\n",
    "    for i in listOfFiles:\n",
    "        df_tempo  = pd.DataFrame(columns=columns)\n",
    "        df_all = pd.read_csv(i,sep=\"\\t\",names=columns)\n",
    "        df_title, df_temp = returnHeaderAndContent(df_all)\n",
    "        df_head, df_content = returnHeaderAndContent(df_temp)\n",
    "        df_title_sum =   df_title_sum.append(df_title)\n",
    "        df_tempo = df_head.append(df_content)\n",
    "        df_all_sum =     df_all_sum.append(df_tempo) \n",
    "        df_head_sum =    df_head_sum.append(df_head) \n",
    "        df_content_sum = df_content_sum.append(df_content) "
   ]
  },
  {
   "cell_type": "markdown",
   "metadata": {},
   "source": [
    "Utilizando essas matrizes recem criadas é utilizada a função getListCount para obter a contagem dos frames."
   ]
  },
  {
   "cell_type": "code",
   "execution_count": 26,
   "metadata": {
    "collapsed": true
   },
   "outputs": [],
   "source": [
    "list_all = getListCount(df_all_sum,'PRED')[1:].to_frame().reset_index()\n",
    "list_head  = getListCount(df_head_sum,'PRED')[1:].to_frame().reset_index()\n",
    "list_content = getListCount(df_content_sum,'PRED')[1:].to_frame().reset_index()"
   ]
  },
  {
   "cell_type": "markdown",
   "metadata": {},
   "source": [
    "Apos a criação da lista de abstracts foi utilizada a função da biblioteca do pandas to_excel para criar o documento de cada uma das listas. E finalizando tambem foi criado os graficos de cada uma das listas."
   ]
  },
  {
   "cell_type": "code",
   "execution_count": 27,
   "metadata": {
    "collapsed": false
   },
   "outputs": [],
   "source": [
    "list_all.to_excel(\"_list_all.xls\", index = None, header=True)\n",
    "getPlot(list_all,\"PRED\",\"_all.png\")\n",
    "list_head.to_excel(\"_list_head.xls\", index = None, header=True)\n",
    "getPlot(list_head,\"PRED\",\"_head.png\")\n",
    "list_content.to_excel(\"_list_content.xls\", index = None, header=True)\n",
    "getPlot(list_content,\"PRED\",\"_content.png\")"
   ]
  },
  {
   "cell_type": "code",
   "execution_count": null,
   "metadata": {
    "collapsed": true
   },
   "outputs": [],
   "source": []
  },
  {
   "cell_type": "code",
   "execution_count": null,
   "metadata": {
    "collapsed": true
   },
   "outputs": [],
   "source": []
  }
 ],
 "metadata": {
  "kernelspec": {
   "display_name": "Python 2",
   "language": "python",
   "name": "python2"
  },
  "language_info": {
   "codemirror_mode": {
    "name": "ipython",
    "version": 2
   },
   "file_extension": ".py",
   "mimetype": "text/x-python",
   "name": "python",
   "nbconvert_exporter": "python",
   "pygments_lexer": "ipython2",
   "version": "2.7.13"
  }
 },
 "nbformat": 4,
 "nbformat_minor": 2
}
